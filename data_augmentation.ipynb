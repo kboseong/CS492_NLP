{
 "cells": [
  {
   "cell_type": "code",
   "execution_count": 1,
   "metadata": {},
   "outputs": [],
   "source": [
    "from transformers import ElectraModel, ElectraTokenizer\n",
    "import torch\n",
    "import numpy as np\n",
    "import random\n",
    "from transformers import pipeline\n",
    "import json\n",
    "from  tqdm import tqdm\n",
    "import copy\n",
    "import os\n"
   ]
  },
  {
   "cell_type": "code",
   "execution_count": 2,
   "metadata": {},
   "outputs": [],
   "source": [
    "os.environ[\"CUDA_VISIBLE_DEVICES\"]=\"0\""
   ]
  },
  {
   "cell_type": "code",
   "execution_count": 3,
   "metadata": {},
   "outputs": [],
   "source": [
    "fill_mask = pipeline(\n",
    "    \"fill-mask\",\n",
    "    model=\"monologg/koelectra-base-v2-generator\",\n",
    "    tokenizer=\"monologg/koelectra-base-v2-generator\",\n",
    "    device = 0\n",
    ")\n"
   ]
  },
  {
   "cell_type": "code",
   "execution_count": 4,
   "metadata": {},
   "outputs": [],
   "source": [
    "tokenizer = ElectraTokenizer.from_pretrained(\"monologg/koelectra-base-v2-generator\")"
   ]
  },
  {
   "cell_type": "code",
   "execution_count": 5,
   "metadata": {},
   "outputs": [],
   "source": [
    "def non_change_set():\n",
    "    non_change_set = [0,1,2,3,4]\n",
    "    symbols = [\",\",\"'\",'\"',\"!\",\"?\",\".\",\"@\",\"#\",\"$\",\"%\",\"^\",\"&\",\"*\",\"(\",\")\",\"-\",\"_\",\"+\",\"=\"]\n",
    "    for symbol in symbols:\n",
    "        non_change_set.append(tokenizer.encode([symbol])[1])\n",
    "    return list(set(non_change_set))"
   ]
  },
  {
   "cell_type": "code",
   "execution_count": 6,
   "metadata": {},
   "outputs": [],
   "source": [
    "non_change_ids = non_change_set()"
   ]
  },
  {
   "cell_type": "code",
   "execution_count": 7,
   "metadata": {},
   "outputs": [],
   "source": [
    "def parse_text(contents, answer, ratio, non_change_ids):\n",
    "    \n",
    "    r = []\n",
    "    \n",
    "    inputs = fill_mask._parse_and_tokenize(contents)\n",
    "    non_change_ids+=tokenizer.encode(answer)\n",
    "    non_change_ids = list(set(non_change_ids))\n",
    "    for content_input_ids in inputs[\"input_ids\"]:\n",
    "        can_change_index = content_input_ids!=-1\n",
    "        for _id in non_change_ids:\n",
    "            can_change_index = can_change_index & (content_input_ids!=_id) \n",
    "        can_change_index = can_change_index.nonzero()\n",
    "        #print(can_change_index)\n",
    "        try:\n",
    "            random_masked_index = random.sample(range(0, can_change_index.shape[0]), int(can_change_index.shape[0]*ratio))\n",
    "        except:\n",
    "            return None\n",
    "        #print(random_masked_index)\n",
    "        for i in random_masked_index:\n",
    "            #print(can_change_index[i])\n",
    "            content_input_ids[can_change_index[i]]=fill_mask.tokenizer.mask_token_id\n",
    "        #print(fill_mask.tokenizer.decode(content_input_ids, skip_special_tokens=True))\n",
    "    \n",
    "    for temp in inputs[\"input_ids\"]:\n",
    "        if temp.shape[0]>510:\n",
    "            return \n",
    "    outputs = fill_mask._forward(inputs)\n",
    "    \n",
    "    \n",
    "    batch_size = outputs.shape[0] \n",
    "\n",
    "    for i in range(batch_size):\n",
    "        input_ids = inputs[\"input_ids\"][i]\n",
    "        result = []\n",
    "\n",
    "        masked_index = (input_ids == fill_mask.tokenizer.mask_token_id).nonzero()\n",
    "        #print(masked_index)\n",
    "        \n",
    "        for index in masked_index:\n",
    "            tokens = input_ids.numpy()\n",
    "            tokens[index] = np.argmax(outputs[i][index.item()])\n",
    "        tokens = tokens[np.where(tokens != fill_mask.tokenizer.pad_token_id)]\n",
    "        r.append(fill_mask.tokenizer.decode(tokens, skip_special_tokens=True))\n",
    "    return r"
   ]
  },
  {
   "cell_type": "code",
   "execution_count": 30,
   "metadata": {},
   "outputs": [],
   "source": [
    "with open(\"korquad_open_train.json\", \"r\", encoding='utf-8') as reader:\n",
    "    all_data = json.load(reader)\n",
    "reader.close()"
   ]
  },
  {
   "cell_type": "code",
   "execution_count": 31,
   "metadata": {},
   "outputs": [],
   "source": [
    "data = all_data['data']"
   ]
  },
  {
   "cell_type": "code",
   "execution_count": 32,
   "metadata": {},
   "outputs": [
    {
     "name": "stderr",
     "output_type": "stream",
     "text": [
      "60367it [2:24:09,  6.98it/s]\n"
     ]
    }
   ],
   "source": [
    "c = 0\n",
    "no_c = 0\n",
    "for i, ele in tqdm(enumerate(data)):\n",
    "    question = ele['qa']['question']\n",
    "    answer = ele['qa']['answer']\n",
    "    paragraphs = ele['paragraphs']\n",
    "    new_ele = []\n",
    "    check = []\n",
    "    for paragraph in paragraphs:\n",
    "        \n",
    "        if paragraph['label'] == '1':\n",
    "            \n",
    "            c+=1\n",
    "            #new_ele.append(paragraph)\n",
    "            \n",
    "            content = paragraph['contents']\n",
    "            try:\n",
    "                non_change_ids = non_change_set()\n",
    "                new_contents = parse_text([content,content],answer, 0.25, non_change_ids)\n",
    "            except:\n",
    "                continue\n",
    "            \n",
    "            if new_contents == None:\n",
    "                no_c+=1\n",
    "                #print(no_c, i)\n",
    "                continue\n",
    "            \n",
    "            for new_content in new_contents:\n",
    "                new_paragraph = copy.deepcopy(paragraph)\n",
    "                new_paragraph['contents'] = new_content\n",
    "                new_ele.append(new_paragraph)\n",
    "        else:\n",
    "            continue\n",
    "        \n",
    "    \n",
    "    ele['paragraphs'] += new_ele\n",
    "    '''if c>1:\n",
    "        print(ele['paragraphs'])\n",
    "        break'''"
   ]
  },
  {
   "cell_type": "code",
   "execution_count": 33,
   "metadata": {},
   "outputs": [],
   "source": [
    "with open(\"korquad_open_train_aug_2_times.json\", \"w\") as json_file:\n",
    "\n",
    "    json.dump(all_data, json_file)\n"
   ]
  },
  {
   "cell_type": "code",
   "execution_count": 26,
   "metadata": {},
   "outputs": [
    {
     "data": {
      "text/plain": [
       "{'qa': {'question': '소연은 형이 살해당한 일을 계기로 누구를 타도하기위해 거병하였는가?', 'answer': '소보권'},\n",
       " 'paragraphs': [{'title': '양_무제',\n",
       "   'contents': '기록에는 그가 어려서부터 문무를 두루 통달하여 주목받았다고 적고 있다. 일찍이 남제 문화의 중심지였던 경릉왕(竟陵王) 소자량의 서저(西邸)에도 드나들었으며, 심약(沈約) 등과 함께 경릉팔우(竟陵八友)의 한 사람으로 수학하였다. 소연이 옹주자사(雍州刺史)가 되었을 때, 당시 남제의 황제였던 소보권이 한창 폭정을 휘두르고 있었다. 그는 소의를 비롯한 황족 종친뿐 아니라 많은 대신과 사람들을 죽였고 궁전에선 과도한 사치를 일삼았고, 소연은 형이 살해당한 일을 계기로 그를 타도하기 위하여 거병했다. 수도인 건강으로 진군해 소보권을 살해하고 화제를 옹립했으나, 이듬해인 502년에 화제로부터 제위를 선양받고 양나라를 세우게 되었다.',\n",
       "   'label': '1',\n",
       "   'source': 'korquad'},\n",
       "  {'title': '양_무제',\n",
       "   'contents': '기록에는 그가 어려서부터 문무를 두루 통달하여 주목받았다고 적고 있다. 소관제 문화의 중심지였던 소천왕 ( 王 ) 소자량의 서저 ( ) 에 드나들었으며, 심약 ( 沈 ) 등과 함께 경릉팔우 ( 八 ) 의 한 사람으로 수학하였다. 소연이 옹주자사 ( 州 史 ) 가 되었을 때, 당시 대제의 지도자였던 소보권은 한창 폭정을 휘두르고 있었다. 그는 소연의의의귀족 종친뿐 아니라 많은 대신과 사람들을 죽였으며, 관선에의 사치를 일삼았고, 소연은 자신이 살해당한 일을 일으켜하여제를 타도하기 위하여 거병했다. 수도의 건강을 행군해 소보권을 살해하고 화제를 옹립했으나, 이듬해인 502년에 화제로부터 제위를 선양받고 양위를 얻게 되었다.',\n",
       "   'label': '1',\n",
       "   'source': 'korquad'}]}"
      ]
     },
     "execution_count": 26,
     "metadata": {},
     "output_type": "execute_result"
    }
   ],
   "source": [
    "data[20000]"
   ]
  },
  {
   "cell_type": "code",
   "execution_count": 27,
   "metadata": {},
   "outputs": [
    {
     "name": "stderr",
     "output_type": "stream",
     "text": [
      "120774it [00:00, 239162.14it/s]\n"
     ]
    }
   ],
   "source": [
    "count = 0\n",
    "#no_c = 0\n",
    "count_2 = 0\n",
    "for i, ele in tqdm(enumerate(all_data['data'])):\n",
    "    question = ele['qa']['question']\n",
    "    answer = ele['qa']['answer']\n",
    "    paragraphs = ele['paragraphs']\n",
    "    new_ele = []\n",
    "    check = []\n",
    "    for paragraph in paragraphs:\n",
    "        \n",
    "        if paragraph['label'] == '1':\n",
    "            count+=1\n",
    "        else:\n",
    "            count_2+=1"
   ]
  },
  {
   "cell_type": "code",
   "execution_count": 29,
   "metadata": {},
   "outputs": [
    {
     "data": {
      "text/plain": [
       "354396"
      ]
     },
     "execution_count": 29,
     "metadata": {},
     "output_type": "execute_result"
    }
   ],
   "source": [
    "count"
   ]
  },
  {
   "cell_type": "code",
   "execution_count": null,
   "metadata": {},
   "outputs": [],
   "source": []
  }
 ],
 "metadata": {
  "kernelspec": {
   "display_name": "Environment (conda_pytorch_p36)",
   "language": "python",
   "name": "conda_pytorch_p36"
  },
  "language_info": {
   "codemirror_mode": {
    "name": "ipython",
    "version": 3
   },
   "file_extension": ".py",
   "mimetype": "text/x-python",
   "name": "python",
   "nbconvert_exporter": "python",
   "pygments_lexer": "ipython3",
   "version": "3.6.5"
  }
 },
 "nbformat": 4,
 "nbformat_minor": 4
}
